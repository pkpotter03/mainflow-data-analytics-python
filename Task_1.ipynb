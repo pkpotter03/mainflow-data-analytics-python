{
  "nbformat": 4,
  "nbformat_minor": 0,
  "metadata": {
    "colab": {
      "provenance": [],
      "authorship_tag": "ABX9TyMTjjtJzlw2uc+HtTsGI50E",
      "include_colab_link": true
    },
    "kernelspec": {
      "name": "python3",
      "display_name": "Python 3"
    },
    "language_info": {
      "name": "python"
    }
  },
  "cells": [
    {
      "cell_type": "markdown",
      "metadata": {
        "id": "view-in-github",
        "colab_type": "text"
      },
      "source": [
        "<a href=\"https://colab.research.google.com/github/pkpotter03/mainflow-data-analytics-python/blob/main/Task_1.ipynb\" target=\"_parent\"><img src=\"https://colab.research.google.com/assets/colab-badge.svg\" alt=\"Open In Colab\"/></a>"
      ]
    },
    {
      "cell_type": "code",
      "source": [
        "list = [0, 1, 2, 3, 4]\n",
        "print(\"list:\", list)"
      ],
      "metadata": {
        "colab": {
          "base_uri": "https://localhost:8080/"
        },
        "id": "tryZGSc694-q",
        "outputId": "a4739e12-462a-4afe-c366-99ed55c47498"
      },
      "execution_count": null,
      "outputs": [
        {
          "output_type": "stream",
          "name": "stdout",
          "text": [
            "list: [0, 1, 2, 3, 4]\n"
          ]
        }
      ]
    },
    {
      "cell_type": "code",
      "source": [
        "list.append(5)\n",
        "print(\"adding an element:\", list)"
      ],
      "metadata": {
        "colab": {
          "base_uri": "https://localhost:8080/"
        },
        "id": "n7YHaGlz-ABf",
        "outputId": "a92505c3-9d23-4ca9-fabf-3220122a7d72"
      },
      "execution_count": null,
      "outputs": [
        {
          "output_type": "stream",
          "name": "stdout",
          "text": [
            "adding an element: [0, 1, 2, 3, 4, 5]\n"
          ]
        }
      ]
    },
    {
      "cell_type": "code",
      "source": [
        "list.remove(0)\n",
        "print(\"removing an element:\", list)"
      ],
      "metadata": {
        "colab": {
          "base_uri": "https://localhost:8080/"
        },
        "id": "A0-J_HJF-U0v",
        "outputId": "c20fb44b-ac38-4e70-c948-63e3a87b009b"
      },
      "execution_count": null,
      "outputs": [
        {
          "output_type": "stream",
          "name": "stdout",
          "text": [
            "removing an element: [1, 2, 3, 4, 5]\n"
          ]
        }
      ]
    },
    {
      "cell_type": "code",
      "source": [
        "list[2] = 10\n",
        "print(\"modifying an element:\", list)"
      ],
      "metadata": {
        "colab": {
          "base_uri": "https://localhost:8080/"
        },
        "id": "f2HPGilB-bBL",
        "outputId": "f4a8ec5a-7cb3-4fb8-98fc-7e190cd11b9c"
      },
      "execution_count": null,
      "outputs": [
        {
          "output_type": "stream",
          "name": "stdout",
          "text": [
            "modifying an element: [1, 2, 10, 4, 5]\n"
          ]
        }
      ]
    },
    {
      "cell_type": "code",
      "source": [
        "dict = {'id': 123, 'name':'pratik', 'gender':'male'}\n",
        "print(\"dictionary:\",dict)"
      ],
      "metadata": {
        "colab": {
          "base_uri": "https://localhost:8080/"
        },
        "id": "m0LLaLgy-o7s",
        "outputId": "f9053202-4f0a-4134-b1a1-9b8a16a77bd2"
      },
      "execution_count": null,
      "outputs": [
        {
          "output_type": "stream",
          "name": "stdout",
          "text": [
            "dictionary: {'id': 123, 'name': 'pratik', 'gender': 'male'}\n"
          ]
        }
      ]
    },
    {
      "cell_type": "code",
      "source": [
        "dict['age'] = 21\n",
        "print(\"adding an element:\", dict)"
      ],
      "metadata": {
        "colab": {
          "base_uri": "https://localhost:8080/"
        },
        "id": "I7m4dxry_yUt",
        "outputId": "cb189057-ae4c-4cfc-bdc2-48144dff8dc4"
      },
      "execution_count": null,
      "outputs": [
        {
          "output_type": "stream",
          "name": "stdout",
          "text": [
            "adding an element: {'id': 123, 'name': 'pratik', 'gender': 'male', 'age': 21}\n"
          ]
        }
      ]
    },
    {
      "cell_type": "code",
      "source": [
        "del dict['gender']\n",
        "print(\"removing an element:\", dict)"
      ],
      "metadata": {
        "colab": {
          "base_uri": "https://localhost:8080/"
        },
        "id": "KOEta2cOAM0F",
        "outputId": "049e048b-4c86-418a-e8c0-2f79214baf9f"
      },
      "execution_count": null,
      "outputs": [
        {
          "output_type": "stream",
          "name": "stdout",
          "text": [
            "removing an element: {'id': 123, 'name': 'pratik', 'age': 21}\n"
          ]
        }
      ]
    },
    {
      "cell_type": "code",
      "source": [
        "dict['id'] = 447\n",
        "print(\"modifying an element:\", dict)"
      ],
      "metadata": {
        "colab": {
          "base_uri": "https://localhost:8080/"
        },
        "id": "cX_v5YxXATl8",
        "outputId": "293b5deb-bc2b-4b20-de20-40929b0ec2aa"
      },
      "execution_count": null,
      "outputs": [
        {
          "output_type": "stream",
          "name": "stdout",
          "text": [
            "modifying an element: {'id': 447, 'name': 'pratik', 'age': 21}\n"
          ]
        }
      ]
    },
    {
      "cell_type": "code",
      "source": [
        "set = {1, 2, 3, 4, 5}\n",
        "print(\"set:\", set)"
      ],
      "metadata": {
        "colab": {
          "base_uri": "https://localhost:8080/"
        },
        "id": "HJyW4r7SA21r",
        "outputId": "77f0cdff-303e-40ab-8ff0-02a2136640fc"
      },
      "execution_count": null,
      "outputs": [
        {
          "output_type": "stream",
          "name": "stdout",
          "text": [
            "set: {1, 2, 3, 4, 5}\n"
          ]
        }
      ]
    },
    {
      "cell_type": "code",
      "source": [
        "set.add(11)\n",
        "print(\"adding an element:\", set)"
      ],
      "metadata": {
        "colab": {
          "base_uri": "https://localhost:8080/"
        },
        "id": "eF2m18vjBUfx",
        "outputId": "7aa78e9a-2959-4610-9a73-7f097d0fbaae"
      },
      "execution_count": null,
      "outputs": [
        {
          "output_type": "stream",
          "name": "stdout",
          "text": [
            "adding an element: {1, 2, 3, 4, 5, 11}\n"
          ]
        }
      ]
    },
    {
      "cell_type": "code",
      "source": [
        "set.remove(4)\n",
        "print(\"removing an element:\", set)"
      ],
      "metadata": {
        "colab": {
          "base_uri": "https://localhost:8080/"
        },
        "id": "HiZLCvUYBcWN",
        "outputId": "ffe10357-1834-401a-b114-d52ea9fedfa1"
      },
      "execution_count": null,
      "outputs": [
        {
          "output_type": "stream",
          "name": "stdout",
          "text": [
            "removing an element: {1, 2, 3, 5, 11}\n"
          ]
        }
      ]
    },
    {
      "cell_type": "code",
      "source": [],
      "metadata": {
        "id": "FeFf21D1Bjbh"
      },
      "execution_count": null,
      "outputs": []
    }
  ]
}