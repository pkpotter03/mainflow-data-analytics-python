{
  "nbformat": 4,
  "nbformat_minor": 0,
  "metadata": {
    "colab": {
      "provenance": [],
      "authorship_tag": "ABX9TyMAbDj/DGPFBz+ZQ28TRKg4",
      "include_colab_link": true
    },
    "kernelspec": {
      "name": "python3",
      "display_name": "Python 3"
    },
    "language_info": {
      "name": "python"
    }
  },
  "cells": [
    {
      "cell_type": "markdown",
      "metadata": {
        "id": "view-in-github",
        "colab_type": "text"
      },
      "source": [
        "<a href=\"https://colab.research.google.com/github/pkpotter03/mainflow-data-analytics-python/blob/main/Task_1.ipynb\" target=\"_parent\"><img src=\"https://colab.research.google.com/assets/colab-badge.svg\" alt=\"Open In Colab\"/></a>"
      ]
    },
    {
      "cell_type": "code",
      "source": [
        "list = [0, 1, 2, 3, 4]\n",
        "print(\"list:\", list)"
      ],
      "metadata": {
        "colab": {
          "base_uri": "https://localhost:8080/"
        },
        "id": "tryZGSc694-q",
        "outputId": "304dbdf4-1155-42a9-be89-252341bad73e"
      },
      "execution_count": 30,
      "outputs": [
        {
          "output_type": "stream",
          "name": "stdout",
          "text": [
            "list: [0, 1, 2, 3, 4]\n"
          ]
        }
      ]
    },
    {
      "cell_type": "code",
      "source": [
        "list.append(5)\n",
        "print(\"adding an element:\", list)"
      ],
      "metadata": {
        "colab": {
          "base_uri": "https://localhost:8080/"
        },
        "id": "n7YHaGlz-ABf",
        "outputId": "514f2be9-f07f-429f-e6e9-75ea1868db6c"
      },
      "execution_count": 31,
      "outputs": [
        {
          "output_type": "stream",
          "name": "stdout",
          "text": [
            "adding an element: [0, 1, 2, 3, 4, 5]\n"
          ]
        }
      ]
    },
    {
      "cell_type": "code",
      "source": [
        "list.remove(0)\n",
        "print(\"removing an element:\", list)"
      ],
      "metadata": {
        "colab": {
          "base_uri": "https://localhost:8080/"
        },
        "id": "A0-J_HJF-U0v",
        "outputId": "4562c265-579e-4eb8-c112-5eb32800f869"
      },
      "execution_count": 32,
      "outputs": [
        {
          "output_type": "stream",
          "name": "stdout",
          "text": [
            "removing an element: [1, 2, 3, 4, 5]\n"
          ]
        }
      ]
    },
    {
      "cell_type": "code",
      "source": [
        "list.insert(2, 10)\n",
        "print(\"inserting an element:\", list)"
      ],
      "metadata": {
        "colab": {
          "base_uri": "https://localhost:8080/"
        },
        "id": "sEGIBzAs8rex",
        "outputId": "59a85f0c-860f-49ce-babe-c3068fea0ddc"
      },
      "execution_count": 33,
      "outputs": [
        {
          "output_type": "stream",
          "name": "stdout",
          "text": [
            "inserting an element: [1, 2, 10, 3, 4, 5]\n"
          ]
        }
      ]
    },
    {
      "cell_type": "code",
      "source": [
        "list.extend([7, 8, 9])\n",
        "print(\"extending with another list:\", list)"
      ],
      "metadata": {
        "colab": {
          "base_uri": "https://localhost:8080/"
        },
        "id": "dwB22p5R85Zn",
        "outputId": "6023c3af-42a8-473e-eafa-9bbcfc433a63"
      },
      "execution_count": 34,
      "outputs": [
        {
          "output_type": "stream",
          "name": "stdout",
          "text": [
            "extending with another list: [1, 2, 10, 3, 4, 5, 7, 8, 9]\n"
          ]
        }
      ]
    },
    {
      "cell_type": "code",
      "source": [
        "list[2] = 15\n",
        "print(\"modifying an element:\", list)"
      ],
      "metadata": {
        "colab": {
          "base_uri": "https://localhost:8080/"
        },
        "id": "f2HPGilB-bBL",
        "outputId": "b6aeecad-054c-4859-f43a-9befd8c5f9d0"
      },
      "execution_count": 35,
      "outputs": [
        {
          "output_type": "stream",
          "name": "stdout",
          "text": [
            "modifying an element: [1, 2, 15, 3, 4, 5, 7, 8, 9]\n"
          ]
        }
      ]
    },
    {
      "cell_type": "code",
      "source": [
        "print(\"Popped element:\", list.pop())\n",
        "print(\"List after popping an element:\", list)"
      ],
      "metadata": {
        "colab": {
          "base_uri": "https://localhost:8080/"
        },
        "id": "kUJ0N2Zx9Rfn",
        "outputId": "71742ab1-ca9a-4368-aaab-b3830c6957e7"
      },
      "execution_count": 36,
      "outputs": [
        {
          "output_type": "stream",
          "name": "stdout",
          "text": [
            "Popped element: 9\n",
            "List after popping an element: [1, 2, 15, 3, 4, 5, 7, 8]\n"
          ]
        }
      ]
    },
    {
      "cell_type": "code",
      "source": [
        "list.clear()\n",
        "print(\"clearing all elements:\", list)"
      ],
      "metadata": {
        "colab": {
          "base_uri": "https://localhost:8080/"
        },
        "id": "vr_M0anj94US",
        "outputId": "6a506425-0cf3-4391-a2ef-0cfa43ba92ec"
      },
      "execution_count": 37,
      "outputs": [
        {
          "output_type": "stream",
          "name": "stdout",
          "text": [
            "clearing all elements: []\n"
          ]
        }
      ]
    },
    {
      "cell_type": "code",
      "source": [
        "dict = {'id': 123, 'name':'pratik', 'gender':'male'}\n",
        "print(\"dictionary:\",dict)"
      ],
      "metadata": {
        "colab": {
          "base_uri": "https://localhost:8080/"
        },
        "id": "m0LLaLgy-o7s",
        "outputId": "cef3f059-8285-4f57-e26d-6f7701f1d2c9"
      },
      "execution_count": 38,
      "outputs": [
        {
          "output_type": "stream",
          "name": "stdout",
          "text": [
            "dictionary: {'id': 123, 'name': 'pratik', 'gender': 'male'}\n"
          ]
        }
      ]
    },
    {
      "cell_type": "code",
      "source": [
        "dict['age'] = 21\n",
        "print(\"adding an element:\", dict)"
      ],
      "metadata": {
        "colab": {
          "base_uri": "https://localhost:8080/"
        },
        "id": "I7m4dxry_yUt",
        "outputId": "2358e1fd-afc4-4695-a06d-400d7625d6ec"
      },
      "execution_count": 39,
      "outputs": [
        {
          "output_type": "stream",
          "name": "stdout",
          "text": [
            "adding an element: {'id': 123, 'name': 'pratik', 'gender': 'male', 'age': 21}\n"
          ]
        }
      ]
    },
    {
      "cell_type": "code",
      "source": [
        "del dict['gender']\n",
        "print(\"removing an element:\", dict)"
      ],
      "metadata": {
        "colab": {
          "base_uri": "https://localhost:8080/"
        },
        "id": "KOEta2cOAM0F",
        "outputId": "73e8081f-50ae-48a7-83b6-0cd9e60448d7"
      },
      "execution_count": 40,
      "outputs": [
        {
          "output_type": "stream",
          "name": "stdout",
          "text": [
            "removing an element: {'id': 123, 'name': 'pratik', 'age': 21}\n"
          ]
        }
      ]
    },
    {
      "cell_type": "code",
      "source": [
        "dict['id'] = 447\n",
        "print(\"modifying an element:\", dict)"
      ],
      "metadata": {
        "colab": {
          "base_uri": "https://localhost:8080/"
        },
        "id": "cX_v5YxXATl8",
        "outputId": "3dd9eb98-2c01-4795-f6b2-64664f517a19"
      },
      "execution_count": 41,
      "outputs": [
        {
          "output_type": "stream",
          "name": "stdout",
          "text": [
            "modifying an element: {'id': 447, 'name': 'pratik', 'age': 21}\n"
          ]
        }
      ]
    },
    {
      "cell_type": "code",
      "source": [
        "dict.update({'Batch': 'A', 'email': 'xyz@gmail.com'})\n",
        "print(\"updating with another dictionary:\", dict)"
      ],
      "metadata": {
        "colab": {
          "base_uri": "https://localhost:8080/"
        },
        "id": "LyC4O_YI-z7S",
        "outputId": "54a56ddb-d3c0-4873-d2e6-33b571fda397"
      },
      "execution_count": 42,
      "outputs": [
        {
          "output_type": "stream",
          "name": "stdout",
          "text": [
            "updating with another dictionary: {'id': 447, 'name': 'pratik', 'age': 21, 'Batch': 'A', 'email': 'xyz@gmail.com'}\n"
          ]
        }
      ]
    },
    {
      "cell_type": "code",
      "source": [
        "print(\"Removed value using pop:\", dict.pop('email'))\n",
        "print(\"Dictionary after popping an element:\", dict)"
      ],
      "metadata": {
        "colab": {
          "base_uri": "https://localhost:8080/"
        },
        "id": "YkEd0lo5_o4j",
        "outputId": "3b8a915b-a11e-4420-8c0a-d0835c31fa99"
      },
      "execution_count": 43,
      "outputs": [
        {
          "output_type": "stream",
          "name": "stdout",
          "text": [
            "Removed value using pop: xyz@gmail.com\n",
            "Dictionary after popping an element: {'id': 447, 'name': 'pratik', 'age': 21, 'Batch': 'A'}\n"
          ]
        }
      ]
    },
    {
      "cell_type": "code",
      "source": [
        "dict.clear()\n",
        "print(\"clearing all elements:\", dict)"
      ],
      "metadata": {
        "colab": {
          "base_uri": "https://localhost:8080/"
        },
        "id": "gSKwtBt1_8Lc",
        "outputId": "5c0ecf6a-dfbc-4d3b-ec36-1b6d5163b486"
      },
      "execution_count": 44,
      "outputs": [
        {
          "output_type": "stream",
          "name": "stdout",
          "text": [
            "clearing all elements: {}\n"
          ]
        }
      ]
    },
    {
      "cell_type": "code",
      "source": [
        "set = {1, 2, 3, 4, 5}\n",
        "print(\"set:\", set)"
      ],
      "metadata": {
        "colab": {
          "base_uri": "https://localhost:8080/"
        },
        "id": "HJyW4r7SA21r",
        "outputId": "f243e2be-64fa-438e-93e9-e8ea941b7f0b"
      },
      "execution_count": 45,
      "outputs": [
        {
          "output_type": "stream",
          "name": "stdout",
          "text": [
            "set: {1, 2, 3, 4, 5}\n"
          ]
        }
      ]
    },
    {
      "cell_type": "code",
      "source": [
        "set.add(11)\n",
        "print(\"adding an element:\", set)"
      ],
      "metadata": {
        "colab": {
          "base_uri": "https://localhost:8080/"
        },
        "id": "eF2m18vjBUfx",
        "outputId": "f3d5bd0f-71cf-4b47-b9ce-985a6a1157e7"
      },
      "execution_count": 46,
      "outputs": [
        {
          "output_type": "stream",
          "name": "stdout",
          "text": [
            "adding an element: {1, 2, 3, 4, 5, 11}\n"
          ]
        }
      ]
    },
    {
      "cell_type": "code",
      "source": [
        "set.remove(4)\n",
        "print(\"removing an element:\", set)"
      ],
      "metadata": {
        "colab": {
          "base_uri": "https://localhost:8080/"
        },
        "id": "HiZLCvUYBcWN",
        "outputId": "a1e184b8-da7c-4f54-e054-2f5e0187530c"
      },
      "execution_count": 47,
      "outputs": [
        {
          "output_type": "stream",
          "name": "stdout",
          "text": [
            "removing an element: {1, 2, 3, 5, 11}\n"
          ]
        }
      ]
    },
    {
      "cell_type": "code",
      "source": [
        "print(\"Popped element from set:\", set.pop())\n",
        "print(\"Set after popping an element:\", set)"
      ],
      "metadata": {
        "colab": {
          "base_uri": "https://localhost:8080/"
        },
        "id": "XcUS2eXEAa6_",
        "outputId": "eceeaa4c-b347-4287-e236-0791513a907c"
      },
      "execution_count": 48,
      "outputs": [
        {
          "output_type": "stream",
          "name": "stdout",
          "text": [
            "Popped element from set: 1\n",
            "Set after popping an element: {2, 3, 5, 11}\n"
          ]
        }
      ]
    },
    {
      "cell_type": "code",
      "source": [
        "another_set = {5, 6, 7, 8}\n",
        "union_set = set.union(another_set)\n",
        "print(\"Union of sets:\", union_set)"
      ],
      "metadata": {
        "colab": {
          "base_uri": "https://localhost:8080/"
        },
        "id": "-On69LSQAliA",
        "outputId": "b7a2418f-6d38-4ab2-b2bb-181950d920f8"
      },
      "execution_count": 49,
      "outputs": [
        {
          "output_type": "stream",
          "name": "stdout",
          "text": [
            "Union of sets: {2, 3, 5, 6, 7, 8, 11}\n"
          ]
        }
      ]
    },
    {
      "cell_type": "code",
      "source": [
        "print(\"Intersection of sets:\", set.intersection(another_set))"
      ],
      "metadata": {
        "colab": {
          "base_uri": "https://localhost:8080/"
        },
        "id": "6aKsC0poBPKC",
        "outputId": "67a00939-ecb6-4b36-edce-ba6939f4947f"
      },
      "execution_count": 50,
      "outputs": [
        {
          "output_type": "stream",
          "name": "stdout",
          "text": [
            "Intersection of sets: {5}\n"
          ]
        }
      ]
    },
    {
      "cell_type": "code",
      "source": [
        "print(\"Difference of sets:\", set.difference(another_set))"
      ],
      "metadata": {
        "colab": {
          "base_uri": "https://localhost:8080/"
        },
        "id": "pxxzPz4iBb7H",
        "outputId": "eabbfab9-04da-48a8-ad2a-ab9398324735"
      },
      "execution_count": 51,
      "outputs": [
        {
          "output_type": "stream",
          "name": "stdout",
          "text": [
            "Difference of sets: {11, 2, 3}\n"
          ]
        }
      ]
    },
    {
      "cell_type": "code",
      "source": [
        "set.clear()\n",
        "print(\"Set after clearing all elements:\", set)"
      ],
      "metadata": {
        "colab": {
          "base_uri": "https://localhost:8080/"
        },
        "id": "1LEeEMTnBp2i",
        "outputId": "a5d07c9e-cf48-4651-a480-ba0988e6b8ce"
      },
      "execution_count": 52,
      "outputs": [
        {
          "output_type": "stream",
          "name": "stdout",
          "text": [
            "Set after clearing all elements: set()\n"
          ]
        }
      ]
    },
    {
      "cell_type": "code",
      "source": [],
      "metadata": {
        "id": "LezIdoitDRDj"
      },
      "execution_count": null,
      "outputs": []
    }
  ]
}